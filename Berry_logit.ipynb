{
 "cells": [
  {
   "cell_type": "code",
   "execution_count": 4,
   "metadata": {},
   "outputs": [],
   "source": [
    "# !pip install linearmodels # uncomment if linear models is not installed\n",
    "import numpy as np\n",
    "import pandas as pd\n",
    "import statsmodels.api as sm\n",
    "from linearmodels.iv import IV2SLS\n",
    "from scipy.optimize import fsolve\n",
    "from IPython.display import display, Markdown"
   ]
  },
  {
   "cell_type": "code",
   "execution_count": 7,
   "metadata": {},
   "outputs": [],
   "source": [
    "class berry_ml:\n",
    "    def __init__(self,\n",
    "                n = 100, # number of montecarlo simulations \n",
    "                m=500, # number of markets\n",
    "                j = 2, # number of firms\n",
    "                beta0 = 5, # utility parameter constant\n",
    "                betax = 2, # utility parameter for observed characters\n",
    "                alpha = 1, # utility parameter for price\n",
    "                gamma0 = 1, # parameter for cost (intercept)\n",
    "                gammax = 0.5, # parameter for cost (observed characters)\n",
    "                gammaw = 0.25, # parameter for cost\n",
    "                sigmad = 1, # utility parameter (unobservable characters)\n",
    "                sigmac = 0.25, # cost parameter (unobservable characters)\n",
    "                sigmaomega = 0.25): # cost parameter (other unobservables)\n",
    "                      \n",
    "        # Save parameters\n",
    "        self.m, self.n, self.j, self.beta0, self.betax, self.alpha, self.gamma0= m,n,j,beta0,betax,alpha,gamma0\n",
    "        self.gammax, self.gammaw, self.sigmad, self.sigmac, self.sigmaomega = gammax, gammaw, sigmad, sigmac, sigmaomega\n",
    "    \n",
    "    # main function of class berry - using functions defined below, it run the simulations and gives output\n",
    "    def simulations(self):\n",
    "        np.random.seed(68309)\n",
    "        results = pd.DataFrame(np.zeros((self.n, 6)))\n",
    "        for i in range(self.n):\n",
    "            results.iloc[i] = data_reg(self.m, self.j, self.gamma0, self.gammax, self.sigmac, self.gammaw, self.sigmaomega, self.beta0, self.betax, self.sigmad, self.alpha)\n",
    "\n",
    "        # take mean of estimates of all simulations:\n",
    "        final_means = results.mean().round(3)\n",
    "        final_sd = results.std().round(3)\n",
    "\n",
    "        # Restructure everything to print as Markdown\n",
    "        values = [\n",
    "            [f\"${self.beta0}$\", f\"${final_means.iloc[0]}$ <br> ({final_sd.iloc[0]})\", f\"${final_means.iloc[3]}$ <br> ({final_sd.iloc[3]})\"],  # beta_0 row\n",
    "            [f\"${self.betax}$\", f\"${final_means.iloc[1]}$ <br> ({final_sd.iloc[1]})\", f\"${final_means.iloc[4]}$ <br> ({final_sd.iloc[4]})\"],  # beta_x row\n",
    "            [f\"-${self.alpha}$\", f\"${final_means.iloc[2]}$ <br> ({final_sd.iloc[2]})\", f\"${final_means.iloc[5]}$ <br> ({final_sd.iloc[5]})\"]   # alpha row\n",
    "        ]\n",
    "\n",
    "        # Define row and column names\n",
    "        row_names = ['$\\\\beta_0$', '$\\\\beta_x$', '$\\\\alpha$']\n",
    "        column_names = ['True Value', 'OLS', 'IV']\n",
    "    \n",
    "        # Create dataframe of results - used for output\n",
    "        self.final_results = pd.DataFrame(values, index = row_names, columns = column_names)\n",
    "        with open(f\"simple_{self.sigmad}.tex\",'w') as f:\n",
    "            f.write(self.final_results.to_latex(index=True))\n",
    "\n",
    "\n",
    "##############################################################################################################################\n",
    "######################################## Define required Functions ###########################################################\n",
    "##############################################################################################################################\n",
    "\n",
    "# Function to solve the First Order Conditions\n",
    "def equilibrium(eqprice, x, si, mc, beta0, betax, alpha, sigmad):\n",
    "    num = np.exp(beta0 + betax * x + sigmad * si - alpha * eqprice)\n",
    "    den = 1 + np.exp(beta0 + betax * x[0] + sigmad * si[0] - alpha * eqprice[0]) + np.exp(beta0 + betax * x[1] + sigmad * si[1] - alpha * eqprice[1])\n",
    "    foc1 = eqprice[0] - mc[0] - (1 / (alpha * (1 - num[0]/den)))\n",
    "    foc2 = eqprice[1] - mc[1] - (1 / (alpha * (1 - num[1]/den)))\n",
    "    return [foc1, foc2]\n",
    "\n",
    "########################################################################\n",
    "# Function to generate data and run regressions\n",
    "def data_reg(m,j, gamma0, gammax, sigmac, gammaw, sigmaomega, beta0, betax, sigmad, alpha):\n",
    "    # generate required variables\n",
    "    x =  np.random.randn(m,j)# observed characters of j firms across m markets\n",
    "    si = np.random.randn(m,j) # unobserved characters of the j firms across m markets\n",
    "    w = np.random.randn(m,j) # cost shifter observed\n",
    "    omeg = np.random.randn(m,j) # cost shifter unobserved\n",
    "    mc = np.exp(gamma0 + gammax * x + sigmac * si + gammaw * w + sigmaomega * omeg) # marginal costs\n",
    "\n",
    "    # initial guess for price\n",
    "    initial_price = np.array((mc))\n",
    "    # place holder for equilibrium price\n",
    "    price = np.zeros((m,j))\n",
    "\n",
    "    # Solve for equilibrium for each market:\n",
    "    for market in range(m):\n",
    "        price[market] = fsolve(equilibrium, initial_price[market], args = (x[market], si[market], mc[market], beta0, betax, alpha, sigmad))\n",
    "\n",
    "    # compute demands and shares\n",
    "    share = np.exp(beta0 + betax * x + sigmad * si - alpha * price)/(1 + np.sum((np.exp(beta0 + betax * x + sigmad * si - alpha * price)),axis = 1).reshape(m, 1))\n",
    "    shareout = 1 / (1 + np.sum((np.exp(beta0 + betax * x + sigmad * si - alpha * price)),axis = 1).reshape(m, 1)) # outside option\n",
    "    demand = np.log(share) - np.log(shareout) # dependent variable\n",
    "\n",
    "    # create data set\n",
    "    dataj = np.concatenate((np.ones((m, 1)), np.full((m, 1), 2))) #firm index\n",
    "    datam = np.concatenate((np.arange(1, m+1).reshape(-1, 1), np.arange(1, m+1).reshape(-1, 1))) # market index\n",
    "    datax = np.vstack(x.T.flatten().reshape(-1,1)) # observed characteristics\n",
    "    dataxoth = np.vstack((x[:, 1], x[:, 0])).flatten().reshape(-1, 1) # character of other firms\n",
    "    datap = np.vstack(price.T.flatten().reshape(-1,1)) #equilibrium prices\n",
    "    datademand = np.vstack(demand.T.flatten().reshape(-1,1)) # market demand\n",
    "    dataw = np.vstack(w.T.flatten().reshape(-1,1)) # cost shifter\n",
    "    datamerg = np.column_stack((datam, dataj, datax, datap, datademand, dataw, dataxoth)) # merge data\n",
    "    finaldf = pd.DataFrame(datamerg, columns = ['M', 'J', 'X', 'P', 'D', 'W', 'XO']) # create dataframe\n",
    "    \n",
    "    # Run OLS Regressions\n",
    "    result_ols = sm.OLS(finaldf['D'], sm.add_constant(finaldf[['P', 'X']])).fit(cov_type='HC3')\n",
    "\n",
    "    # extract required coefficients\n",
    "    const_ols = result_ols.params['const']\n",
    "    betax_ols = result_ols.params['X']\n",
    "    alpha_ols = result_ols.params['P']\n",
    "\n",
    "    # extract required standard errors\n",
    "    se_cosnt_ols = result_ols.get_robustcov_results('HC3').bse[0]\n",
    "    se_betax_ols = result_ols.get_robustcov_results('HC3').bse[2]\n",
    "    se_alpha_ols = result_ols.get_robustcov_results('HC3').bse[1]\n",
    "\n",
    "    # Run IV Regression\n",
    "    result_iv = IV2SLS(finaldf['D'], sm.add_constant(finaldf[['X']]), finaldf[['P']], finaldf[['W', 'XO']]).fit()\n",
    "\n",
    "    # extract required coefficients\n",
    "    const_iv = result_iv.params['const']\n",
    "    betax_iv = result_iv.params['X']\n",
    "    alpha_iv = result_iv.params['P']\n",
    "\n",
    "    # extract required standard errors\n",
    "    se_const_iv = result_iv.std_errors['const']\n",
    "    se_betax_iv = result_iv.std_errors['X']\n",
    "    se_alpha_iv = result_iv.std_errors['P']\n",
    "\n",
    "    # return as an array\n",
    "    return pd.DataFrame([[const_ols, betax_ols, alpha_ols, const_iv, betax_iv, alpha_iv]])\n"
   ]
  },
  {
   "cell_type": "code",
   "execution_count": null,
   "metadata": {},
   "outputs": [
    {
     "data": {
      "text/markdown": [
       "Results for $\\sigma_d$= 1: "
      ],
      "text/plain": [
       "<IPython.core.display.Markdown object>"
      ]
     },
     "metadata": {},
     "output_type": "display_data"
    },
    {
     "data": {
      "text/markdown": [
       "|           | True Value   | OLS                   | IV                    |\n",
       "|:----------|:-------------|:----------------------|:----------------------|\n",
       "| $\\beta_0$ | $5$          | $3.166$ <br> (0.252)  | $4.979$ <br> (0.231)  |\n",
       "| $\\beta_x$ | $2$          | $1.332$ <br> (0.077)  | $1.993$ <br> (0.084)  |\n",
       "| $\\alpha$  | -$1$         | $-0.635$ <br> (0.052) | $-0.996$ <br> (0.046) |"
      ],
      "text/plain": [
       "<IPython.core.display.Markdown object>"
      ]
     },
     "metadata": {},
     "output_type": "display_data"
    }
   ],
   "source": [
    "ml_sigmad1 = berry_ml(m=500, # number of markets\n",
    "               n = 100, # number of montecarlo simulations\n",
    "               j = 2, # number of firms\n",
    "               beta0 = 5, # utility parameter constant\n",
    "               betax = 2, # utility parameter for observed characters\n",
    "               alpha = 1, # utility parameter for price\n",
    "               gamma0 = 1, # parameter for cost (intercept)\n",
    "               gammax = 0.5, # parameter for cost (observed characters)\n",
    "               gammaw = 0.25, # parameter for cost\n",
    "               sigmad = 1, # utility parameter (unobservable characters)\n",
    "               sigmac = 0.25, # cost parameter (unobservable characters)\n",
    "               sigmaomega = 0.25) # cost parameter (other unobservables))\n",
    "ml_sigmad1.simulations()\n",
    "display(Markdown(\"Results for $\\\\sigma_d$= 1: \"))\n",
    "display(Markdown(ml_sigmad1.final_results.to_markdown()))"
   ]
  },
  {
   "cell_type": "code",
   "execution_count": 9,
   "metadata": {},
   "outputs": [
    {
     "data": {
      "text/markdown": [
       "Results for $\\sigma_d$= 3: "
      ],
      "text/plain": [
       "<IPython.core.display.Markdown object>"
      ]
     },
     "metadata": {},
     "output_type": "display_data"
    },
    {
     "data": {
      "text/markdown": [
       "|           | True Value   | OLS                  | IV                    |\n",
       "|:----------|:-------------|:---------------------|:----------------------|\n",
       "| $\\beta_0$ | $5$          | $-0.778$ <br> (0.5)  | $4.925$ <br> (0.751)  |\n",
       "| $\\beta_x$ | $2$          | $0.038$ <br> (0.131) | $1.975$ <br> (0.255)  |\n",
       "| $\\alpha$  | -$1$         | $0.107$ <br> (0.099) | $-0.986$ <br> (0.144) |"
      ],
      "text/plain": [
       "<IPython.core.display.Markdown object>"
      ]
     },
     "metadata": {},
     "output_type": "display_data"
    }
   ],
   "source": [
    "ml_sigmad3 = berry_ml(m=500, # number of markets\n",
    "               n = 100, # number of montecarlo simulations\n",
    "               j = 2, # number of firms\n",
    "               beta0 = 5, # utility parameter constant\n",
    "               betax = 2, # utility parameter for observed characters\n",
    "               alpha = 1, # utility parameter for price\n",
    "               gamma0 = 1, # parameter for cost (intercept)\n",
    "               gammax = 0.5, # parameter for cost (observed characters)\n",
    "               gammaw = 0.25, # parameter for cost\n",
    "               sigmad = 3, # utility parameter (unobservable characters)\n",
    "               sigmac = 0.25, # cost parameter (unobservable characters)\n",
    "               sigmaomega = 0.25) # cost parameter (other unobservables))\n",
    "ml_sigmad3.simulations()\n",
    "display(Markdown(\"Results for $\\\\sigma_d$= 3: \"))\n",
    "display(Markdown(ml_sigmad3.final_results.to_markdown()))\n"
   ]
  }
 ],
 "metadata": {
  "kernelspec": {
   "display_name": "base",
   "language": "python",
   "name": "python3"
  },
  "language_info": {
   "codemirror_mode": {
    "name": "ipython",
    "version": 3
   },
   "file_extension": ".py",
   "mimetype": "text/x-python",
   "name": "python",
   "nbconvert_exporter": "python",
   "pygments_lexer": "ipython3",
   "version": "3.11.7"
  }
 },
 "nbformat": 4,
 "nbformat_minor": 2
}
