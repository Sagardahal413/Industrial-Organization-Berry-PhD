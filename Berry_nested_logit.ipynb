{
 "cells": [
  {
   "cell_type": "code",
   "execution_count": 1,
   "metadata": {},
   "outputs": [],
   "source": [
    "# !pip install linearmodels # uncomment if linear models is not installed\n",
    "import numpy as np\n",
    "import pandas as pd\n",
    "import statsmodels.api as sm\n",
    "from linearmodels.iv import IV2SLS\n",
    "from scipy.optimize import fsolve\n",
    "from IPython.display import display, Markdown"
   ]
  },
  {
   "cell_type": "code",
   "execution_count": 2,
   "metadata": {},
   "outputs": [],
   "source": [
    "class berry_nl:\n",
    "    def __init__(self,\n",
    "                n = 100, # number of montecarlo simulations \n",
    "                m=500, # number of markets\n",
    "                j = 2, # number of firms\n",
    "                beta0 = 5, # utility parameter constant\n",
    "                betax = 2, # utility parameter for observed characters\n",
    "                alpha = 1, # utility parameter for price\n",
    "                gamma0 = 1, # parameter for cost (intercept)\n",
    "                gammax = 0.5, # parameter for cost (observed characters)\n",
    "                gammaw = 0.25, # parameter for cost\n",
    "                sigmad = 1, # utility parameter (unobservable characters)\n",
    "                sigmac = 0.25, # cost parameter (unobservable characters)\n",
    "                sigmaomega = 0.25, # cost parameter (other unobservables)\n",
    "                phi = 0.5): # nesting parameter\n",
    "                      \n",
    "        # Save parameters\n",
    "        self.m, self.n, self.j, self.beta0, self.betax, self.alpha, self.gamma0= m,n,j,beta0,betax,alpha,gamma0\n",
    "        self.gammax, self.gammaw, self.sigmad, self.sigmac, self.sigmaomega, self.phi = gammax, gammaw, sigmad, sigmac, sigmaomega, phi\n",
    "    \n",
    "    # main function of class berry - using functions defined below, it run the simulations and gives output\n",
    "    def simulations(self):\n",
    "        np.random.seed(68309)\n",
    "        results = pd.DataFrame(np.zeros((self.n, 8)))\n",
    "        for i in range(self.n):\n",
    "            results.iloc[i] = data_reg(self.m, self.j, self.gamma0, self.gammax, self.sigmac, self.gammaw, self.sigmaomega, self.beta0, self.betax, self.sigmad, self.alpha, self.phi)\n",
    "\n",
    "        # take mean of estimates of all simulations:\n",
    "        final_means = results.mean().round(3)\n",
    "        final_sd = results.std().round(3)\n",
    "\n",
    "        # Restructure everything to print as Markdown\n",
    "        values = [\n",
    "            [f\"${self.beta0}$\",f\"${final_means.iloc[0]}$ <br> ({final_sd.iloc[0]})\", f\"${final_means.iloc[4]}$ <br> ({final_sd.iloc[4]})\"],  # beta_0 row\n",
    "            [f\"${self.betax}$\",f\"${final_means.iloc[1]}$ <br> ({final_sd.iloc[1]})\", f\"${final_means.iloc[5]}$ <br> ({final_sd.iloc[5]})\"],  # beta_x row\n",
    "            [f\"-${self.alpha}$\",f\"${final_means.iloc[2]}$ <br> ({final_sd.iloc[2]})\", f\"${final_means.iloc[6]}$ <br> ({final_sd.iloc[6]})\"],   # alpha row\n",
    "            [f\"${self.phi}$\",f\"${final_means.iloc[3]}$ <br> ({final_sd.iloc[3]})\", f\"${final_means.iloc[7]}$ <br> ({final_sd.iloc[7]})\"]     # phi row\n",
    "        ]\n",
    "\n",
    "        # Define row and column names\n",
    "        row_names = ['$\\\\beta_0$', '$\\\\beta_x$', '$\\\\alpha$', '$\\\\phi$']\n",
    "        column_names = ['True Value', 'OLS', 'IV']\n",
    "    \n",
    "        # Create dataframe of results - used for output\n",
    "        self.final_results = pd.DataFrame(values, index = row_names, columns = column_names)\n",
    "\n",
    "\n",
    "##############################################################################################################################\n",
    "######################################## Define required Functions ###########################################################\n",
    "##############################################################################################################################\n",
    "\n",
    "# Function to solve the First Order Conditions\n",
    "def equilibrium(eqprice, x, si, mc, beta0, betax, alpha, sigmad, phi):\n",
    "    num = np.exp((beta0 + betax * x + sigmad * si - alpha * eqprice)/(1 - phi)) # numerator for sbar_j|g\n",
    "    dg1 = np.exp((beta0 + betax * x[0] + sigmad * si[0] - alpha * eqprice[0])/ (1 - phi)) + np.exp((beta0 + betax * x[1] + sigmad * si[1] - alpha * eqprice[1])/(1 - phi)) # denominator for sbar_j|1\n",
    "    dg2 = np.exp((beta0 + betax * x[2] + sigmad * si[2] - alpha * eqprice[2])/ (1 - phi)) + np.exp((beta0 + betax * x[3] + sigmad * si[3] - alpha * eqprice[3])/(1 - phi)) # denominator for sbar_j|2\n",
    "    dg = 1 + dg1**(1 - phi) + dg2**(1 - phi) # denominator for s_j\n",
    "    foc1 = eqprice[0] - mc[0] - (((1 - phi)/alpha)/(1 - phi * (num[0]/dg1) - (1 - phi) * (num[0]/(dg1**phi * dg)))) # foc for j = 1, g = 1\n",
    "    foc2 = eqprice[1] - mc[1] - (((1 - phi)/alpha)/(1 - phi * (num[1]/dg1) - (1 - phi) * (num[1]/(dg1**phi * dg)))) # foc for j = 2, g = 1\n",
    "    foc3 = eqprice[2] - mc[2] - (((1 - phi)/alpha)/(1 - phi * (num[2]/dg2) - (1 - phi) * (num[2]/(dg2**phi * dg)))) # foc for j = 3, g = 2\n",
    "    foc4 = eqprice[3] - mc[3] - (((1 - phi)/alpha)/(1 - phi * (num[3]/dg2) - (1 - phi) * (num[3]/(dg2**phi * dg)))) # foc for j = 3, g = 2\n",
    "    return [foc1, foc2, foc3, foc4]\n",
    "\n",
    "########################################################################\n",
    "# Function to generate data and run regressions\n",
    "def data_reg(m,j, gamma0, gammax, sigmac, gammaw, sigmaomega, beta0, betax, sigmad, alpha, phi):\n",
    "    # generate required variables\n",
    "    x =  np.random.randn(m,j)# observed characters of j firms across m markets\n",
    "    si = np.random.randn(m,j) # unobserved characters of the j firms across m markets\n",
    "    w = np.random.randn(m,j) # cost shifter observed\n",
    "    omeg = np.random.randn(m,j) # cost shifter unobserved\n",
    "    mc = np.exp(gamma0 + gammax * x + sigmac * si + gammaw * w + sigmaomega * omeg) # marginal costs\n",
    "\n",
    "    # initial guess for price\n",
    "    initial_price = np.array((mc))\n",
    "    \n",
    "    # place holder for equilibrium price\n",
    "    price = np.zeros((m,j))\n",
    "    \n",
    "    \n",
    "    # Solve for equilibrium for each market:\n",
    "    for market in range(m):\n",
    "        price[market] = fsolve(equilibrium, initial_price[market], args = (x[market], si[market], mc[market], beta0, betax, alpha, sigmad, phi))\n",
    "    \n",
    "\n",
    "    # compute demands and shares\n",
    "    num = np.exp((beta0 + betax * x + sigmad * si - alpha * price)/(1 - phi)) # numerator for sbar_j|g\n",
    "    dg1 = np.exp((beta0 + betax * x[:,0] + sigmad * si[:,0] - alpha * price[:,0])/ (1 - phi)) + np.exp((beta0 + betax * x[:,1] + sigmad * si[:,1] - alpha * price[:,1])/(1 - phi)) # denominator for sbar_j|1\n",
    "    dg2 = np.exp((beta0 + betax * x[:,2] + sigmad * si[:,2] - alpha * price[:,2])/ (1 - phi)) + np.exp((beta0 + betax * x[:,3] + sigmad * si[:,3] - alpha * price[:,3])/(1 - phi)) # denominator for sbar_j|2\n",
    "    dg = 1 + dg1**(1 - phi) + dg2**(1 - phi) # denominator for s_j\n",
    "    sbar_jg = num/np.column_stack((np.repeat(dg1, 2).reshape(m, 2), np.repeat(dg2, 2).reshape(m, 2))) # shares in each group\n",
    "    share_j = num/np.column_stack((np.repeat(dg * dg1**phi, 2).reshape(m, 2), np.repeat(dg * dg2**phi, 2).reshape(m, 2))) # share in each market\n",
    "\n",
    "    shareout = np.repeat(1 / dg, 4).reshape(m, 4) # outside option\n",
    "    demand = np.log(share_j) - np.log(shareout) # dependent variable\n",
    "\n",
    "    # create data set\n",
    "    dataj = np.concatenate((np.ones((m, 1)), np.full((m, 1), 2), np.full((m, 1), 3), np.full((m, 1), 4))) #firm index\n",
    "    datam = np.concatenate((np.arange(1, m+1).reshape(-1, 1), np.arange(1, m+1).reshape(-1, 1), np.arange(1, m+1).reshape(-1, 1), np.arange(1, m+1).reshape(-1, 1))) # market index\n",
    "    datax = np.vstack(x.T.flatten().reshape(-1,1)) # observed characteristics\n",
    "    dataxoth = np.vstack((x[:, 1], x[:, 0], x[:, 3], x[:, 2])).flatten().reshape(-1, 1) # character of other firms within groups\n",
    "    datap = np.vstack(price.T.flatten().reshape(-1,1)) #equilibrium prices\n",
    "    datademand = np.vstack(demand.T.flatten().reshape(-1,1)) # market demand\n",
    "    datasharebar = np.log(np.vstack(sbar_jg.T.flatten().reshape(-1, 1))) # share of firms within their group\n",
    "    dataw = np.vstack(w.T.flatten().reshape(-1,1)) # cost shifter\n",
    "    datamerg = np.column_stack((datam, dataj, datax, datap, datademand, dataw, dataxoth, datasharebar)) # merge data\n",
    "    finaldf = pd.DataFrame(datamerg, columns = ['M', 'J', 'X', 'P', 'D', 'W', 'XO', 'SB']) # create dataframe\n",
    "    #finaldf.to_excel('output.xlsx', index = False)\n",
    "\n",
    "    # Run OLS Regressions\n",
    "    result_ols = sm.OLS(finaldf['D'], sm.add_constant(finaldf[['P', 'X', 'SB']])).fit(cov_type='HC3')\n",
    "\n",
    "    # extract required coefficients\n",
    "    const_ols = result_ols.params['const']\n",
    "    betax_ols = result_ols.params['X']\n",
    "    alpha_ols = result_ols.params['P']\n",
    "    phi_ols = result_ols.params['SB']\n",
    "\n",
    "    # extract required standard errors\n",
    "    se_cosnt_ols = result_ols.get_robustcov_results('HC3').bse[0]\n",
    "    se_betax_ols = result_ols.get_robustcov_results('HC3').bse[2]\n",
    "    se_alpha_ols = result_ols.get_robustcov_results('HC3').bse[1]\n",
    "    se_phi_ols = result_ols.get_robustcov_results('HC3').bse[3]\n",
    "\n",
    "    # Run IV Regression\n",
    "    result_iv = IV2SLS(finaldf['D'], sm.add_constant(finaldf[['X']]), finaldf[['P', 'SB']], finaldf[['W', 'XO']]).fit()\n",
    "    \n",
    "    # extract required coefficients\n",
    "    const_iv = result_iv.params['const']\n",
    "    betax_iv = result_iv.params['X']\n",
    "    alpha_iv = result_iv.params['P']\n",
    "    phi_iv = result_iv.params['SB']\n",
    "\n",
    "    # extract required standard errors\n",
    "    se_const_iv = result_iv.std_errors['const']\n",
    "    se_betax_iv = result_iv.std_errors['X']\n",
    "    se_alpha_iv = result_iv.std_errors['P']\n",
    "    se_phi_iv = result_iv.std_errors['SB']\n",
    "\n",
    "    # return as an array\n",
    "    return pd.DataFrame([[const_ols, betax_ols, alpha_ols, phi_ols, const_iv, betax_iv, alpha_iv, phi_iv]])\n"
   ]
  },
  {
   "cell_type": "code",
   "execution_count": 3,
   "metadata": {},
   "outputs": [
    {
     "data": {
      "text/markdown": [
       "Results for $\\sigma_d$= 1: "
      ],
      "text/plain": [
       "<IPython.core.display.Markdown object>"
      ]
     },
     "metadata": {},
     "output_type": "display_data"
    },
    {
     "data": {
      "text/markdown": [
       "|           | True Value   | OLS                   | IV                    |\n",
       "|:----------|:-------------|:----------------------|:----------------------|\n",
       "| $\\beta_0$ | $5$          | $2.891$ <br> (0.072)  | $5.037$ <br> (0.221)  |\n",
       "| $\\beta_x$ | $2$          | $0.947$ <br> (0.034)  | $2.021$ <br> (0.13)   |\n",
       "| $\\alpha$  | -$1$         | $-0.415$ <br> (0.018) | $-1.012$ <br> (0.071) |\n",
       "| $\\phi$    | $0.5$        | $0.814$ <br> (0.011)  | $0.492$ <br> (0.075)  |"
      ],
      "text/plain": [
       "<IPython.core.display.Markdown object>"
      ]
     },
     "metadata": {},
     "output_type": "display_data"
    }
   ],
   "source": [
    "nl_sigmad1 = berry_nl(m=500, # number of markets\n",
    "               n = 100, # number of montecarlo simulations\n",
    "               j = 4, # number of firms\n",
    "               beta0 = 5, # utility parameter constant\n",
    "               betax = 2, # utility parameter for observed characters\n",
    "               alpha = 1, # utility parameter for price\n",
    "               gamma0 = 1, # parameter for cost (intercept)\n",
    "               gammax = 0.5, # parameter for cost (observed characters)\n",
    "               gammaw = 0.25, # parameter for cost\n",
    "               sigmad = 1, # utility parameter (unobservable characters)\n",
    "               sigmac = 0.25, # cost parameter (unobservable characters)\n",
    "               sigmaomega = 0.25, # cost parameter (other unobservables))\n",
    "               phi = 0.5) # nesting parameter\n",
    "nl_sigmad1.simulations()\n",
    "display(Markdown(\"Results for $\\\\sigma_d$= 1: \"))\n",
    "display(Markdown(nl_sigmad1.final_results.to_markdown()))"
   ]
  },
  {
   "cell_type": "code",
   "execution_count": 4,
   "metadata": {},
   "outputs": [
    {
     "data": {
      "text/markdown": [
       "Results for $\\sigma_d$= 3: "
      ],
      "text/plain": [
       "<IPython.core.display.Markdown object>"
      ]
     },
     "metadata": {},
     "output_type": "display_data"
    },
    {
     "data": {
      "text/markdown": [
       "|           | True Value   | OLS                  | IV                    |\n",
       "|:----------|:-------------|:---------------------|:----------------------|\n",
       "| $\\beta_0$ | $5$          | $1.396$ <br> (0.134) | $5.326$ <br> (1.699)  |\n",
       "| $\\beta_x$ | $2$          | $0.092$ <br> (0.05)  | $2.272$ <br> (1.344)  |\n",
       "| $\\alpha$  | -$1$         | $0.026$ <br> (0.023) | $-1.144$ <br> (0.706) |\n",
       "| $\\phi$    | $0.5$        | $0.974$ <br> (0.011) | $0.354$ <br> (0.719)  |"
      ],
      "text/plain": [
       "<IPython.core.display.Markdown object>"
      ]
     },
     "metadata": {},
     "output_type": "display_data"
    }
   ],
   "source": [
    "nl_sigmad3 = berry_nl(m=500, # number of markets\n",
    "               n = 100, # number of montecarlo simulations\n",
    "               j = 4, # number of firms\n",
    "               beta0 = 5, # utility parameter constant\n",
    "               betax = 2, # utility parameter for observed characters\n",
    "               alpha = 1, # utility parameter for price\n",
    "               gamma0 = 1, # parameter for cost (intercept)\n",
    "               gammax = 0.5, # parameter for cost (observed characters)\n",
    "               gammaw = 0.25, # parameter for cost\n",
    "               sigmad = 3, # utility parameter (unobservable characters)\n",
    "               sigmac = 0.25, # cost parameter (unobservable characters)\n",
    "               sigmaomega = 0.25, # cost parameter (other unobservables))\n",
    "               phi = 0.5) # nesting parameter\n",
    "nl_sigmad3.simulations()\n",
    "display(Markdown(\"Results for $\\\\sigma_d$= 3: \"))\n",
    "display(Markdown(nl_sigmad3.final_results.to_markdown()))"
   ]
  },
 "metadata": {
  "kernelspec": {
   "display_name": "base",
   "language": "python",
   "name": "python3"
  },
  "language_info": {
   "codemirror_mode": {
    "name": "ipython",
    "version": 3
   },
   "file_extension": ".py",
   "mimetype": "text/x-python",
   "name": "python",
   "nbconvert_exporter": "python",
   "pygments_lexer": "ipython3",
   "version": "3.11.7"
  }
 },
 "nbformat": 4,
 "nbformat_minor": 2
}
